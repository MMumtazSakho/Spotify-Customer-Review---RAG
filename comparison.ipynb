{
 "cells": [
  {
   "cell_type": "code",
   "execution_count": 4,
   "metadata": {},
   "outputs": [
    {
     "name": "stderr",
     "output_type": "stream",
     "text": [
      "c:\\Users\\mmumt\\anaconda3\\Lib\\site-packages\\langchain_mistralai\\embeddings.py:169: UserWarning: Could not download mistral tokenizer from Huggingface for calculating batch sizes. Set a Huggingface token via the HF_TOKEN environment variable to download the real tokenizer. Falling back to a dummy tokenizer that uses `len()`.\n",
      "  warnings.warn(\n"
     ]
    }
   ],
   "source": [
    "from openai import OpenAI\n",
    "import os\n",
    "from langchain_openai import OpenAIEmbeddings\n",
    "from langchain_chroma import Chroma\n",
    "from mistralai.client import MistralClient\n",
    "from mistralai.models.chat_completion import ChatMessage\n",
    "from langchain_mistralai import MistralAIEmbeddings\n",
    "import chromadb\n",
    "\n",
    "api_key = os.environ[\"OPENAI_API_KEY\"]=\"API\"\n",
    "client = OpenAI()\n",
    "openai_model_name = 'text-embedding-3-small'\n",
    "openai_embed = OpenAIEmbeddings(model=openai_model_name)\n",
    "\n",
    "\n",
    "api_key_mistral = os.environ[\"MISTRAL_API_KEY\"] = \"5DZg7ZyUoJiJ1FGrbXjfzp6Bad40aSrp\"\n",
    "client_mistral = MistralClient(api_key=api_key_mistral)\n",
    "mistral_embed = MistralAIEmbeddings(model = \"mistral-embed\")\n"
   ]
  },
  {
   "cell_type": "code",
   "execution_count": 26,
   "metadata": {},
   "outputs": [],
   "source": [
    "def retriever_list(embedding_model, path, collection, q, k):\n",
    "    persistent_client = chromadb.PersistentClient(path=path)\n",
    "    vector_store_from_client = Chroma(\n",
    "        client=persistent_client,\n",
    "        collection_name=collection,\n",
    "        embedding_function=embedding_model,\n",
    "        )\n",
    "    \n",
    "    results = vector_store_from_client.similarity_search(\n",
    "        q,\n",
    "        k=k,\n",
    "    )\n",
    "    final_results = [results[i].page_content for i in range(len(results))]\n",
    "    return final_results"
   ]
  },
  {
   "cell_type": "markdown",
   "metadata": {},
   "source": [
    "# Embedding Comparison"
   ]
  },
  {
   "cell_type": "markdown",
   "metadata": {},
   "source": [
    "## Openai-2 (without feature engineering)"
   ]
  },
  {
   "cell_type": "code",
   "execution_count": 27,
   "metadata": {},
   "outputs": [
    {
     "data": {
      "text/plain": [
       "['Nice features and user friendly',\n",
       " 'Awesome features. Love the app',\n",
       " 'User friendly and awesome features',\n",
       " 'Features are great. User friendly too.',\n",
       " 'I love the features of this App.']"
      ]
     },
     "execution_count": 27,
     "metadata": {},
     "output_type": "execute_result"
    }
   ],
   "source": [
    "retriever_list(embedding_model=openai_embed,\n",
    "               path='openai_embed_db2', collection='openai_embed2', \n",
    "          q = \"What are the specific features or aspects that users appreciate the most in our application?\", \n",
    "          k=5)"
   ]
  },
  {
   "cell_type": "code",
   "execution_count": 7,
   "metadata": {},
   "outputs": [
    {
     "data": {
      "text/plain": [
       "['Best music streaming application on the market',\n",
       " 'Best of any and all streaming music apps/sites',\n",
       " 'Best music streaming App on the market',\n",
       " 'Best music streaming app in the market',\n",
       " 'Best music streaming app so far']"
      ]
     },
     "execution_count": 7,
     "metadata": {},
     "output_type": "execute_result"
    }
   ],
   "source": [
    "retriever_list(embedding_model=openai_embed, path='openai_embed_db2', collection='openai_embed2', \n",
    "          q = \"In comparison to our application, which music streaming platform are users most likely to compare ours with?\", \n",
    "          k=5)"
   ]
  },
  {
   "cell_type": "code",
   "execution_count": 8,
   "metadata": {},
   "outputs": [
    {
     "data": {
      "text/plain": [
       "[\"I love my music. As far as players go, it's a decent player. As far as selection of music goes, I think they do the best they can; no serious complaints there. They can't force artists/record labels.  My major complaints relate to the social media aspect of the app and other features. It's terrible delivering notifications. The most recent version of the app doesn't even have the notification icon. I can't view notifcations within the app or the desktop version. I have trouble finding other user profiles even though they are public and I have verified the spelling. Sometimes playlists that I share don't show up with other users. I never know what to expect  Spotify has never allowed users to add links or descriptions to playlists or individual tracks which I would think is a basic feature for any social media app. When another user shares a track with me, I've had it show as a new message for weeks, even though I've clicked on it and read it/listened to it numerous times.  Also, features are constantly changing. Don't fall in love with any feature because chances are, it won't be in the next update. Lots more complaints, just out of space. Spotify, get your act together!\",\n",
       " \"I am a huge fan of spotify which is why I pay for the premium service. It allows me to listen to a wide range of music at anytime and introduces me to artists I wouldn't necessarily get a chance to hear. Complaints: songs are often repeated in published playlists, playlists aren't as wide reaching as would like, when I select offline mode some playlists don't download properly and I have to re-download.\",\n",
       " \"The large database of good audio quality tracks is the reason I stick to Spotify. However their UI design is terrible. Managing playlists is unnecessarily complicated and the separation of your personal stuff and the main database is murky. The radio function is a good idea but poorly implemented. It often sticks to a couple of similar and popular artists, so you get bored easily and you'll rarely discover a new band.\",\n",
       " \"I've had Spotify for a few years as a premium user and the apps have gotten a lot better than they used to be.  My huge complaint is the algorithms used for shuffle are awful! I have lists with 1000's of songs and it plays the same few.  I would like to be able to choose to play the most played, most recently added,  songs least played, etc on my own playlists. I also hate that my husband and I can't listen to our account at the same time.  That's another big downfall with Spotify.\",\n",
       " \"I have a love hate relationship with Spotify.  Technical issues can be a pain. Randomly makes my playlists unavailable and I have to reload them, lately hasn't been syncing my account, so I lose my premium membership on my mobile devices. Most recently had to delete and reinstall app but it still won't update my account.  Also the web player doesn't work in chrome, it just redirects to home page.  A fairly large music selection, I like the discover feature and lots of playlists to explore for new music.\"]"
      ]
     },
     "execution_count": 8,
     "metadata": {},
     "output_type": "execute_result"
    }
   ],
   "source": [
    "retriever_list(openai_embed, path='openai_embed_db2', collection='openai_embed2', \n",
    "          q = \"What are the primary reasons users express dissatisfaction with Spotify?\" ,\n",
    "          k=5)"
   ]
  },
  {
   "cell_type": "code",
   "execution_count": 9,
   "metadata": {},
   "outputs": [
    {
     "data": {
      "text/plain": [
       "['Can we know specifically what changes or improvements are being made with every update?',\n",
       " 'Maybe it\\'s just me, but I\\'m interested to know what\\'s new or what\\'s in the updates you release, so in addition to the standard \"We\\'re always adding new things and improving your experience\" message, would you consider just tell us what each update consists of? Thanks guys. Great app.',\n",
       " 'Could use some UX/UI updates.',\n",
       " \"Updates always improve UX and I've had great customer experience.\",\n",
       " 'No complaints really but I am waiting to see what new features can be integrated into the future.']"
      ]
     },
     "execution_count": 9,
     "metadata": {},
     "output_type": "execute_result"
    }
   ],
   "source": [
    "retriever_list(openai_embed, path='openai_embed_db2', collection='openai_embed2', \n",
    "          q = \"Can you identify emerging trends or patterns in recent user reviews that may impact our product strategy?\", \n",
    "          k=5)"
   ]
  },
  {
   "cell_type": "code",
   "execution_count": 10,
   "metadata": {},
   "outputs": [
    {
     "data": {
      "text/plain": [
       "['Mau langganan via kartu kredit sistem nya gagal melulu, katanya \"system belum tersedia / bermasalah\" padahal kartu kreditnya uda Visa sm Mastercard. Akhirnya bayar via bank transfer per bulan. Tapi ga praktis jadinya',\n",
       " 'Kalau bisa, opsi untuk pembayaran akun premium ditambah. Di Indonesia pengguna lebih suka metode pembayaran pemotongan pulsa untuk pra bayar/tagihan di simcard pasca bayar. Semoga bisa ditingkatkan. Pada akhirnya, aplikasi ini jauh lebih baik dari kompetitornya, menurut saya.',\n",
       " 'Ane mau up ke premium saldo ada tapi ga cukup mulu, kenapa ini -_-',\n",
       " 'Aplikasi berbayar ini OK bgt',\n",
       " 'please pay providers use telkomsel']"
      ]
     },
     "execution_count": 10,
     "metadata": {},
     "output_type": "execute_result"
    }
   ],
   "source": [
    "retriever_list(openai_embed,path='openai_embed_db2', collection='openai_embed2', \n",
    "          q = \"apakah ada masalah terkait pembayaran?\", \n",
    "          k=5)\n"
   ]
  },
  {
   "cell_type": "code",
   "execution_count": 11,
   "metadata": {},
   "outputs": [
    {
     "data": {
      "text/plain": [
       "['Fantastic app design with the power of spotify',\n",
       " 'Great way to access Spotify`s services with an easy-to-use interface and fluid design.',\n",
       " 'Love the selection and design of spotify.',\n",
       " 'Love Spotify. Great app with beautiful design.',\n",
       " 'Well designed and easy to use. Thanks Spotify!']"
      ]
     },
     "execution_count": 11,
     "metadata": {},
     "output_type": "execute_result"
    }
   ],
   "source": [
    "retriever_list(openai_embed, path='openai_embed_db2', collection='openai_embed2', \n",
    "          q = \"bagaimana review design interface spotify?\", \n",
    "          k=5)\n",
    "\n"
   ]
  },
  {
   "cell_type": "markdown",
   "metadata": {},
   "source": [
    "## Openai-1 (Feature engineering)"
   ]
  },
  {
   "cell_type": "code",
   "execution_count": 12,
   "metadata": {},
   "outputs": [
    {
     "data": {
      "text/plain": [
       "['Excellent review at 3.7.0.833 version: Love everything about the app',\n",
       " 'Excellent review at 3.6.0.789 version: Love everything about this app ☺',\n",
       " 'Excellent review at 3.6.0.789 version: Love everything about this app',\n",
       " 'Excellent review at 3.7.0.833 version: LOVE THE APP',\n",
       " 'Excellent review at 3.7.0.833 version: Love everything about this app, especially the premium upgrade! Totally worth it!']"
      ]
     },
     "execution_count": 12,
     "metadata": {},
     "output_type": "execute_result"
    }
   ],
   "source": [
    "retriever_list(openai_embed, path='openai_embed_db', collection='openai_embed', \n",
    "          q = \"What are the specific features or aspects that users appreciate the most in our application?\", \n",
    "          k=5)"
   ]
  },
  {
   "cell_type": "code",
   "execution_count": 13,
   "metadata": {},
   "outputs": [
    {
     "data": {
      "text/plain": [
       "['Excellent review at 4.6.0.772 version: Best of any and all streaming music apps/sites',\n",
       " \"Excellent review at 4.4.0.1008 version: If you are looking for a good music app, this is the one for you! Only 10 bucks a month and you get features that other streaming services don't provide. Honestly cannot compete with any other. While this app is great I would love for there to be a service similar to sound hound so that I could find new music and add it right through the app rather than searching for it with Google now or sound hound and then searching for it in spotify. If you add that this app would be perfect!\",\n",
       " \"Excellent review at 4.7.0.878 version: I love streaming platforms because I have to many songs, over 800, and that's quite a lot of space and money that I would require if I were down to buy every single one of them. Personally the best streaming app so far.\",\n",
       " 'Excellent review at 4.8.0.1004 version: Best Music Streaming Platform',\n",
       " 'Excellent review at 4.7.0.878 version: The best music streaming app out there. Period. No competition']"
      ]
     },
     "execution_count": 13,
     "metadata": {},
     "output_type": "execute_result"
    }
   ],
   "source": [
    "retriever_list(embedding_model=openai_embed, path='openai_embed_db', collection='openai_embed', \n",
    "          q = \"In comparison to our application, which music streaming platform are users most likely to compare ours with?\", \n",
    "          k=5)"
   ]
  },
  {
   "cell_type": "code",
   "execution_count": 14,
   "metadata": {},
   "outputs": [
    {
     "data": {
      "text/plain": [
       "[\"Average review at 5.2.0.885 version: I love my music. As far as players go, it's a decent player. As far as selection of music goes, I think they do the best they can; no serious complaints there. They can't force artists/record labels.  My major complaints relate to the social media aspect of the app and other features. It's terrible delivering notifications. The most recent version of the app doesn't even have the notification icon. I can't view notifcations within the app or the desktop version. I have trouble finding other user profiles even though they are public and I have verified the spelling. Sometimes playlists that I share don't show up with other users. I never know what to expect  Spotify has never allowed users to add links or descriptions to playlists or individual tracks which I would think is a basic feature for any social media app. When another user shares a track with me, I've had it show as a new message for weeks, even though I've clicked on it and read it/listened to it numerous times.  Also, features are constantly changing. Don't fall in love with any feature because chances are, it won't be in the next update. Lots more complaints, just out of space. Spotify, get your act together!\",\n",
       " \"Below Average review at 6.5.0.1816 version: Many things to like, but: UI is slow and clumsy (important features hidden away in context menus, Android back button behaves unpredictably); library limited to 10000 songs; limit for downloaded songs even lower; too often, songs/albums disappear from Spotify's catalogue; can't permanently disable the publication of what I'm listening to (how self-conscious do you want your users to be? Music is very personal for some); buggy (e.g. it says it can't play a song - restarting Spotify helps)\",\n",
       " \"Average review at - version: Huge fan of the service. I love music and they serve music well. There is talent at Spotify but their UX team must have their hands tied because this app is not raising any bars. Key features finally starting to show up like remote control aren't very reliable. Easy to accidentally interrupt current song, hard to manage the queue, play history isn't preserved, basic interfaces like per-song menus are obstructed. I expect it will continue to improve but some issues run deep.\",\n",
       " \"Below Average review at 3.5.0.963 version: Loved Spotify until they decided to give away user privacy. The app is good, but lacks the ability to sort playlists in in useful ways. Not even able to sort by genre. Spotify says they plan to improve, but they clearly don't listen to their users. I'll be moving to Apple or some other service. Sorry Spotify... myself and many others liked you from the start but you have been pulling away features, not adding requested ones and now you want all of my private information... no thanks. Dissatisfied customer.\",\n",
       " \"Below Average review at 4.2.0.739 version: Spotify used to be good until it got too obsessed with making money so it made it near impossible for users to listen to the music they want to listen to. I've just had to endure 20-30 mins of NON STOP suggested tracks which are no where near similar to the songs I listen to on Spotify, meaning I've burned all 6 of my daily free skips on songs that I shouldn't be forced to listen to just so that I can listen to decent music! Plus, when I went to complain, Spotify do not have anywhere to complain!\"]"
      ]
     },
     "execution_count": 14,
     "metadata": {},
     "output_type": "execute_result"
    }
   ],
   "source": [
    "retriever_list(openai_embed, path='openai_embed_db', collection='openai_embed', \n",
    "          q = \"What are the primary reasons users express dissatisfaction with Spotify?\" ,\n",
    "          k=5)"
   ]
  },
  {
   "cell_type": "code",
   "execution_count": 15,
   "metadata": {},
   "outputs": [
    {
     "data": {
      "text/plain": [
       "['Average review at 5.9.0.774 version: There is twice as many commercial then there was a month ago',\n",
       " \"Excellent review at 5.9.0.774 version: Been a user since day one and I wouldn't change it for any other app\",\n",
       " 'Good review at 3.5.0.963 version: Getting alot more commerical than before',\n",
       " 'Excellent review at 5.9.0.774 version: Way more interesting to use than the other app!',\n",
       " \"Excellent review at 5.9.0.774 version: Been using this app for 3 years and wouldn't change it x\"]"
      ]
     },
     "execution_count": 15,
     "metadata": {},
     "output_type": "execute_result"
    }
   ],
   "source": [
    "retriever_list(openai_embed, path='openai_embed_db', collection='openai_embed', \n",
    "          q = \"Can you identify emerging trends or patterns in recent user reviews that may impact our product strategy?\", \n",
    "          k=5)"
   ]
  },
  {
   "cell_type": "code",
   "execution_count": 16,
   "metadata": {},
   "outputs": [
    {
     "data": {
      "text/plain": [
       "[\"Below Average review at - version: Can't pay With telkomsel billing\",\n",
       " 'Below Average review at 7.1.0.1025 version: Saya mau nih bayar premium, asal pembayarannya dipermudah yaitu dengan billing operator (telkomsel). Tolong dong ditampung...males tau transfer dulu ke atm, mana ga punya kartu kredit. Tolong yah!',\n",
       " 'Good review at 5.5.0.653 version: Mau langganan via kartu kredit sistem nya gagal melulu, katanya \"system belum tersedia / bermasalah\" padahal kartu kreditnya uda Visa sm Mastercard. Akhirnya bayar via bank transfer per bulan. Tapi ga praktis jadinya',\n",
       " 'Poor review at - version: Pelit amat kasi vip aja cuma 7 hari habis itu bayar lg hrs ny 3 bln kek :v',\n",
       " 'Good review at - version: tp selalu harus berbayar']"
      ]
     },
     "execution_count": 16,
     "metadata": {},
     "output_type": "execute_result"
    }
   ],
   "source": [
    "retriever_list(openai_embed,path='openai_embed_db', collection='openai_embed', \n",
    "          q = \"apakah ada masalah terkait pembayaran?\", \n",
    "          k=5)\n"
   ]
  },
  {
   "cell_type": "code",
   "execution_count": 17,
   "metadata": {},
   "outputs": [
    {
     "data": {
      "text/plain": [
       "['Excellent review at 4.6.0.772 version: Props to the spotify team for their rediculously good UX design and implementation, such a good ap',\n",
       " 'Excellent review at 4.4.0.1008 version: Love Spotify. Great app with beautiful design.',\n",
       " 'Excellent review at 4.7.0.878 version: Spotify has a good interface, a lot of music, and is easy to use.',\n",
       " \"Excellent review at 4.2.0.739 version: I'd recommend Spotify to anyone into music. Simple design and easy to use.\",\n",
       " 'Excellent review at 4.4.0.1008 version: Spotify is the greatest service for any fan of music. Never has there been a better way to, not just listen, but experience music. The app keeps getting better and the design is beautiful.']"
      ]
     },
     "execution_count": 17,
     "metadata": {},
     "output_type": "execute_result"
    }
   ],
   "source": [
    "retriever_list(openai_embed, path='openai_embed_db', collection='openai_embed', \n",
    "          q = \"bagaimana review design interface spotify?\", \n",
    "          k=5)\n",
    "\n"
   ]
  },
  {
   "cell_type": "markdown",
   "metadata": {},
   "source": [
    "## Mistral-Embedding\n"
   ]
  },
  {
   "cell_type": "code",
   "execution_count": 18,
   "metadata": {},
   "outputs": [
    {
     "data": {
      "text/plain": [
       "['Excellent review at 2.3.0.828 version: You guys have great music that I have been missing by using other apps- thank you spotify',\n",
       " 'Excellent review at 2.2.0.636 version: Use to have other apps n they suck n then I found spotify n love it can ask for more',\n",
       " \"Excellent review at - version: This application is great I could listen to my favourite music's... Thanks spotify\",\n",
       " 'Excellent review at 5.0.0.956 version: Spotify is the best app for anyone  who remotely likes music',\n",
       " 'Excellent review at 1.2.0.534 version: One of the best app designs out there. Artistic, functional, reliable. Spotify keeps my money for these very reasons. Keep up the great work']"
      ]
     },
     "execution_count": 18,
     "metadata": {},
     "output_type": "execute_result"
    }
   ],
   "source": [
    "retriever_list(mistral_embed, path='spotify_review_db2', collection='spotify_review2', \n",
    "          q = \"What are the specific features or aspects that users appreciate the most in our application?\", \n",
    "          k=5)"
   ]
  },
  {
   "cell_type": "code",
   "execution_count": 19,
   "metadata": {},
   "outputs": [
    {
     "data": {
      "text/plain": [
       "['Excellent review at 2.0.0.702 version: Pretty much the best program for music streaming. Only thing I would insist is better/more relevant recommendations',\n",
       " 'Excellent review at 3.6.0.789 version: Best music streaming app about.. can not fault it',\n",
       " 'Excellent review at 3.6.0.789 version: Best music streaming app on the market.',\n",
       " 'Excellent review at 2.0.0.702 version: There are a lot of music streaming apps out there, but I believe the one that sets this one apart are the great playlist!',\n",
       " 'Excellent review at 3.6.0.789 version: Tried all the streaming musolic apps..best one']"
      ]
     },
     "execution_count": 19,
     "metadata": {},
     "output_type": "execute_result"
    }
   ],
   "source": [
    "retriever_list(mistral_embed, path='spotify_review_db2', collection='spotify_review2', \n",
    "          q = \"In comparison to our application, which music streaming platform are users most likely to compare ours with?\", \n",
    "          k=5)"
   ]
  },
  {
   "cell_type": "code",
   "execution_count": 20,
   "metadata": {},
   "outputs": [
    {
     "data": {
      "text/plain": [
       "['Average review at 4.0.0.800 version: Music selection is stupendous; however they pay artists close to nothing so they\\'re crushing the very people they need to keep creating stuff in order for their model to work.  That said, for an app that is this popular and costs $10/month, I don\\'t understand why the UI is so terrible. My guess is UX by committee, so no one wins. :(  It takes 3 taps to get to the Search function. The buttons you use most often should be available all the time on a phone.  Please, please do not make me click the menu button to get there.  I\\'m sure you\\'ve done some UX research, please listen to your UX researchers and designers.  How do people actually use your app?  What do they go to most?  Make those easiest to get to.   Also, I can no longer wrap my head around what I should expect to find in \"Your Music\".  If I\\'ve saved an Album is it in Albums or Playlists? Why isn\\'t voice search integrated.  I love listening in my car but it\\'s beyond dangerous to type search in this app while driving so I\\'ve taken to using the Google Search app voice function.  You can say, \"Okay, Google\" and then \"play Spotify Kanye West Power\" and it\\'ll play the song.  That\\'s great, but why not have it in the app?',\n",
       " \"Poor review at 4.7.0.878 version: I find when I pay for an app, it should do what I want when I download it. When I'm looking for songs I I'm recommended on Spotify suck. I don't want to sort through a million albums to get a discography.  Of I pay $11/ month, make ur shot accessible or complete.  Please also respond on how u will change.\",\n",
       " \"Below Average review at 3.5.0.963 version: Loved Spotify until they decided to give away user privacy. The app is good, but lacks the ability to sort playlists in in useful ways. Not even able to sort by genre. Spotify says they plan to improve, but they clearly don't listen to their users. I'll be moving to Apple or some other service. Sorry Spotify... myself and many others liked you from the start but you have been pulling away features, not adding requested ones and now you want all of my private information... no thanks. Dissatisfied customer.\",\n",
       " \"Average review at - version: Huge fan of the service. I love music and they serve music well. There is talent at Spotify but their UX team must have their hands tied because this app is not raising any bars. Key features finally starting to show up like remote control aren't very reliable. Easy to accidentally interrupt current song, hard to manage the queue, play history isn't preserved, basic interfaces like per-song menus are obstructed. I expect it will continue to improve but some issues run deep.\",\n",
       " \"Below Average review at 2.3.0.828 version: Spotify has a great music catalog. It's amazing to have their library in the palm of my hand. It's very unfortunate that the app is as bad as it is. It is incredibly slow. Getting to artists, albums and playlists can take minutes for no apparent reason. Offline music too, try to pull up an offline album to listen while stopped at a stop light and you probably won't be able to. The interface of the app is not intuitive at all. It is a jumbled mess. Finding anything takes effort. When playing on my bluetooth radio in my car the songs stop and start all the time for no reason. It's like listening to the worst buffering YouTube video.  I like Spotify's library and nothing really compares but using the app is one of the most frustrating things I do on my phone. If they could fix the performance I would rate 4 stars, if they could organize the app in an intuitive matter and fix the performance problems then it is a 5 star app. As it stands now I keep questioning why I pay for and use it.\"]"
      ]
     },
     "execution_count": 20,
     "metadata": {},
     "output_type": "execute_result"
    }
   ],
   "source": [
    "retriever_list(mistral_embed, path='spotify_review_db2', collection='spotify_review2', \n",
    "          q = \"What are the primary reasons users express dissatisfaction with Spotify?\", \n",
    "          k=5)"
   ]
  },
  {
   "cell_type": "code",
   "execution_count": 21,
   "metadata": {},
   "outputs": [
    {
     "data": {
      "text/plain": [
       "['Excellent review at 3.6.0.789 version: Just that u have to be specific about what u want when u r searching',\n",
       " 'Good review at 2.2.0.636 version: The ux often lacks guidance for the user and is not always intuitive.',\n",
       " 'Excellent review at 3.6.0.789 version: It gives u the option to what u want',\n",
       " 'Good review at 3.7.0.833 version: No complaints so far. Seems to be easy to use and I have yet for it not to find a search topic',\n",
       " 'Excellent review at 3.6.0.789 version: Almost anything i wanna find is in here! Cool']"
      ]
     },
     "execution_count": 21,
     "metadata": {},
     "output_type": "execute_result"
    }
   ],
   "source": [
    "retriever_list(mistral_embed, path='spotify_review_db2', collection='spotify_review2', \n",
    "          q = \"Can you identify emerging trends or patterns in recent user reviews that may impact our product strategy?\", \n",
    "          k=5)"
   ]
  },
  {
   "cell_type": "code",
   "execution_count": 22,
   "metadata": {},
   "outputs": [
    {
     "data": {
      "text/plain": [
       "[\"Excellent review at 1.3.0.423 version: The only problem is that how students without paypal & debit cards can avail the premium promo? It's budget friendly but the paying process is kinda complicated esp. To those who are not use to paypal & credit/debit cards. Thanks 😊\",\n",
       " 'Good review at 4.1.0.868 version: PLEASE DO ONE PAYMENT METHOD FOR CELCOM USERS TOO.ITS NOT FAIR.',\n",
       " \"Excellent review at 3.6.0.789 version: Love the app so much but can't go for premium... Want to apply for premium but you only accept cards... Is it possible to request for you to change some payment methods.. I'm using a prepaid load and no credit card at all.. Is it possible to just deduct it to my prepaid load instead? Please make it more convenient to all people who wants to go for.premium not only for card holders. Thank you and God bless!\",\n",
       " \"Average review at 3.0.0.1124 version: But it's have payment offline  and I don't have money\",\n",
       " \"Poor review at 1.3.0.423 version: I really would want to go premium with this application but I think the owner discriminated those who doesn't own a credit card or whatever card you needed to purchase this one. So I will never have th chance to suscribe with this. What a waste! Why don't you just let us pay for this through our load like any other applications? What is it with credit cards? It really sucks!!\"]"
      ]
     },
     "execution_count": 22,
     "metadata": {},
     "output_type": "execute_result"
    }
   ],
   "source": [
    "retriever_list(mistral_embed, path='spotify_review_db2', collection='spotify_review2', \n",
    "          q = \"apakah ada masalah terkait pembayaran?\", \n",
    "          k=5)"
   ]
  },
  {
   "cell_type": "code",
   "execution_count": 23,
   "metadata": {},
   "outputs": [
    {
     "data": {
      "text/plain": [
       "['Excellent review at 1.6.0.952 version: Just improve the interface of the app... beats got a good one! I would like to see what else we can get from spotify',\n",
       " \"Excellent review at 3.5.0.963 version: Spotify is well designed. While it's not always as intuitive as I'd like - mostly because it isn't like what i was used to using before, they have thought of just about everything from a feature perspective. I really like the user paradigm. Once i figured that out, it became much easier to use. Love the device linking. Very cool job, y'all! Thank you!\",\n",
       " 'Excellent review at 4.6.0.772 version: Props to the spotify team for their rediculously good UX design and implementation, such a good ap',\n",
       " 'Excellent review at 3.5.0.963 version: Well designed and easy to use. Thanks Spotify!',\n",
       " \"Good review at 3.6.0.789 version: Spotify's catalog is fabulous, but the interface is half-baked.\"]"
      ]
     },
     "execution_count": 23,
     "metadata": {},
     "output_type": "execute_result"
    }
   ],
   "source": [
    "retriever_list(mistral_embed, path='spotify_review_db2', collection='spotify_review2', \n",
    "          q = \"bagaimana review design interface spotify?\", \n",
    "          k=5)"
   ]
  },
  {
   "cell_type": "markdown",
   "metadata": {},
   "source": [
    "# Summary"
   ]
  },
  {
   "cell_type": "markdown",
   "metadata": {},
   "source": [
    "it is hard to find the best embedding model for RAG. Those samples performs very good. But, I would rather to chose mistral-embedding because of its dimension. Openai emnedding has larger dimension than mistral embedding, so i decide to chose mistral for minimum storage size"
   ]
  }
 ],
 "metadata": {
  "kernelspec": {
   "display_name": "base",
   "language": "python",
   "name": "python3"
  },
  "language_info": {
   "codemirror_mode": {
    "name": "ipython",
    "version": 3
   },
   "file_extension": ".py",
   "mimetype": "text/x-python",
   "name": "python",
   "nbconvert_exporter": "python",
   "pygments_lexer": "ipython3",
   "version": "3.11.7"
  }
 },
 "nbformat": 4,
 "nbformat_minor": 2
}
